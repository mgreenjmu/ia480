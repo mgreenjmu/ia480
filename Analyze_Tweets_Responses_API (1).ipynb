{
 "cells": [
  {
   "cell_type": "markdown",
   "id": "86832346-9e59-4811-83ff-04e2e007e515",
   "metadata": {},
   "source": [
    "# OpenAI Responses API: Advanced Tweet Analysis with File & Web Search Integration"
   ]
  },
  {
   "cell_type": "markdown",
   "id": "55ea36b9-4484-4e95-a023-41e475f1af58",
   "metadata": {},
   "source": [
    "## What is the OpenAI Responses API?\n",
    "\n",
    "The Responses API is a new API released in March 2025. It is a combination of the traditional \n",
    "Chat Completions API and the Assistants API, providing support for:\n",
    "\n",
    "- **Traditional Chat Completions:** Facilitates seamless conversational AI experiences.\n",
    "- **Web Search:** Enables real-time information retrieval from the internet.\n",
    "- **File Search:** Allows searching within files for relevant data.\n",
    "\n",
    "Accordingly, the Assistants API will be retired in 2026. \n",
    "\n",
    "> **For new users, OpenAI recommends using the Responses API instead of the Chat Completions API to leverage its expanded capabilities.**\n",
    "\n",
    "For a comprehensive comparison between the Responses API and the Chat Completions API, refer to the official OpenAI documentation: \n",
    "[Responses vs. Chat Completions](https://platform.openai.com/docs/guides/responses-vs-chat-completions)."
   ]
  },
  {
   "cell_type": "markdown",
   "id": "cf3ae0b6-d8f5-4547-be96-bafdf768853c",
   "metadata": {},
   "source": [
    "## Summary of This Notebook\n",
    "This notebook provides a hands-on guide for using the **OpenAI Responses API** to analyze tweets. \n",
    "It covers essential techniques such as:\n",
    "\n",
    "- **Connecting to a MongoDB database** to store and retrieve tweets.\n",
    "- **Extracting tweets** and converting them into a structured format for further analysis.\n",
    "- **Creating a vector store** and uploading tweets for semantic search.\n",
    "- **Using file search** to analyze private datasets.\n",
    "- **Performing web search** to retrieve the latest public information.\n",
    "- **Utilizing stateful responses** to maintain conversation context.\n",
    "- **Combining file and web search** to enhance retrieval-augmented generation (RAG) applications.\n",
    "\n",
    "By the end of this notebook, users will be able to integrate OpenAI's Responses API for efficient data retrieval \n",
    "and analysis of structured and unstructured data."
   ]
  },
  {
   "cell_type": "markdown",
   "id": "adbe454d-ac76-413a-b17c-f79c4873e9df",
   "metadata": {},
   "source": [
    "## Install Required Libraries\n",
    "To use the OpenAI Responses API and interact with a MongoDB database, we need to install the following libraries:\n",
    "\n",
    "- **`openai`**: Provides access to OpenAI's APIs, including the Responses API\n",
    "- **`pymongo`**: A Python driver for MongoDB to store and retrieve tweets."
   ]
  },
  {
   "cell_type": "code",
   "execution_count": 1,
   "id": "6346923a-a409-4621-a6fc-d0f72dccde48",
   "metadata": {},
   "outputs": [
    {
     "name": "stdout",
     "output_type": "stream",
     "text": [
      "Note: you may need to restart the kernel to use updated packages.\n"
     ]
    }
   ],
   "source": [
    "pip install openai pymongo -q"
   ]
  },
  {
   "cell_type": "markdown",
   "id": "b9706b93-af03-4f7a-89bd-6649b11ba83c",
   "metadata": {},
   "source": [
    "## Import Required Libraries"
   ]
  },
  {
   "cell_type": "code",
   "execution_count": 2,
   "id": "9a4f25ea-3dc7-4955-8589-0527ce749a30",
   "metadata": {},
   "outputs": [],
   "source": [
    "from IPython.display import Markdown, display\n",
    "import boto3\n",
    "from botocore.exceptions import ClientError\n",
    "import json\n",
    "import io"
   ]
  },
  {
   "cell_type": "markdown",
   "id": "818d0310-abab-49d2-9d7e-69c92112efd5",
   "metadata": {},
   "source": [
    "## Retrieve Secrets from AWS Secrets Manager"
   ]
  },
  {
   "cell_type": "code",
   "execution_count": 3,
   "id": "28c8e717-0cbb-4125-8a3e-9ea5f1c92180",
   "metadata": {
    "tags": []
   },
   "outputs": [],
   "source": [
    "def get_secret(secret_name):\n",
    "    region_name = \"us-east-1\"\n",
    "\n",
    "    # Create a Secrets Manager client\n",
    "    session = boto3.session.Session()\n",
    "    client = session.client(\n",
    "        service_name='secretsmanager',\n",
    "        region_name=region_name\n",
    "    )\n",
    "\n",
    "    try:\n",
    "        get_secret_value_response = client.get_secret_value(\n",
    "            SecretId=secret_name\n",
    "        )\n",
    "    except ClientError as e:\n",
    "        raise e\n",
    "\n",
    "    secret = get_secret_value_response['SecretString']\n",
    "    \n",
    "    return json.loads(secret)"
   ]
  },
  {
   "cell_type": "markdown",
   "id": "22aeb735-4c86-41fd-8ce7-893c07fad822",
   "metadata": {},
   "source": [
    "## Connect to MongoDB"
   ]
  },
  {
   "cell_type": "code",
   "execution_count": 4,
   "id": "05ac135f-43ea-4499-9aac-224324b9e727",
   "metadata": {
    "tags": []
   },
   "outputs": [],
   "source": [
    "import pymongo\n",
    "from pymongo import MongoClient\n",
    "mongodb_connect = get_secret('mongodb')['connection_string']\n",
    "\n",
    "mongo_client = MongoClient(mongodb_connect)\n",
    "db = mongo_client.demo # use or create a database named demo\n",
    "tweet_collection = db.tweet_collection #use or create a collection named tweet_collection\n",
    "# tweet_collection.create_index([(\"tweet.id\", pymongo.ASCENDING)],unique = True) # make sure the collected tweets are unique"
   ]
  },
  {
   "cell_type": "markdown",
   "id": "c0d9ccee-380a-4484-89e0-c00f8a9db9f7",
   "metadata": {},
   "source": [
    "## Extract Tweets from MongoDB"
   ]
  },
  {
   "cell_type": "code",
   "execution_count": 5,
   "id": "eeb2d39e-603b-4d41-9a23-b4db8dcdad2f",
   "metadata": {
    "tags": []
   },
   "outputs": [],
   "source": [
    "filter={\n",
    "\n",
    "    \n",
    "}\n",
    "project={\n",
    "    'tweet.text': 1,\n",
    "    '_id':0\n",
    "}\n",
    "#rename the client to mongo_client\n",
    "result = mongo_client['demo']['tweet_collection'].find(\n",
    "  filter=filter,\n",
    "  projection=project\n",
    ")"
   ]
  },
  {
   "cell_type": "markdown",
   "id": "c830cf03-025c-4b78-93d8-e57c4890f20d",
   "metadata": {},
   "source": [
    "After retrieving tweets from MongoDB, we convert the query result into a list format for easier processing.\n",
    "The data is then serialized into a JSON-formatted string, ensuring it can be properly stored and shared across different services.\n",
    "Using `io.BytesIO`, we create an in-memory JSON file, eliminating the need for disk writes.\n",
    "This approach is particularly useful for applications that require temporary file storage, such as uploading datasets\n",
    "to OpenAI's file search API or cloud storage for further analysis."
   ]
  },
  {
   "cell_type": "code",
   "execution_count": 6,
   "id": "f7f458f7-2bd9-43f7-9e51-12547473a2ff",
   "metadata": {},
   "outputs": [],
   "source": [
    "result_list = list(result)\n",
    "\n",
    "# Convert result list to JSON string\n",
    "json_data = json.dumps(result_list, default=str, indent=4)\n",
    "\n",
    "# Create an in-memory JSON file\n",
    "json_bytes = io.BytesIO(json_data.encode(\"utf-8\"))\n",
    "json_bytes.name = \"tweet.json\" "
   ]
  },
  {
   "cell_type": "code",
   "execution_count": 7,
   "id": "c7a0713c-4ebb-4cc0-b3e5-e307f9b40a94",
   "metadata": {
    "tags": []
   },
   "outputs": [
    {
     "name": "stdout",
     "output_type": "stream",
     "text": [
      "Number of tweets:  298\n"
     ]
    }
   ],
   "source": [
    "print('Number of tweets: ',len(result_list))"
   ]
  },
  {
   "cell_type": "markdown",
   "id": "69bbd9ff-e0bc-4ec0-9fbc-b2f931defe4e",
   "metadata": {},
   "source": [
    "## Initialize OpenAI Client"
   ]
  },
  {
   "cell_type": "code",
   "execution_count": 8,
   "id": "0ec97cf0-736c-439e-81e4-0d22a7b527bd",
   "metadata": {},
   "outputs": [],
   "source": [
    "from openai import OpenAI\n",
    "openai_api_key  = get_secret('openai')['api_key']\n",
    "\n",
    "client = OpenAI(api_key=openai_api_key)"
   ]
  },
  {
   "cell_type": "markdown",
   "id": "7ef03684-10fa-433c-a9ff-5f322fd215c3",
   "metadata": {},
   "source": [
    "## File Search API\n",
    "\n",
    "### Introduction to File Search\n",
    "File search API enables efficient retrieval of relevant information \n",
    "from uploaded files by leveraging vector-based indexing. This feature is particularly useful \n",
    "for searching large datasets, extracting insights, and improving retrieval-augmented generation (RAG) applications.\n",
    "\n",
    "Unlike traditional keyword-based searches, the Responses API uses embeddings \n",
    "to identify semantically relevant content, making it ideal for analyzing structured \n",
    "and unstructured text data (OpenAI, 2025).\n",
    "\n",
    "For more details, visit the official OpenAI documentation: \n",
    "[File Search in Responses API](https://platform.openai.com/docs/guides/tools-file-search)."
   ]
  },
  {
   "cell_type": "markdown",
   "id": "12034ce9-04cc-4f03-8573-9328f05c3735",
   "metadata": {},
   "source": [
    "### Create a Vector Store"
   ]
  },
  {
   "cell_type": "code",
   "execution_count": 9,
   "id": "a2e24f19-be80-429e-8a9a-ece1da9a4ef9",
   "metadata": {},
   "outputs": [],
   "source": [
    "vector_store = client.vector_stores.create(\n",
    "    name=\"tweet_base\"\n",
    ")\n",
    "vector_store_id = vector_store.id\n",
    "# print(vector_store_id)"
   ]
  },
  {
   "cell_type": "markdown",
   "id": "1e80e5ee-4317-4317-8e46-493c3f5d2e95",
   "metadata": {},
   "source": [
    "### Upload Tweets File"
   ]
  },
  {
   "cell_type": "code",
   "execution_count": 10,
   "id": "596ecef7-0b1a-4cbe-8e47-f7e13d6d6150",
   "metadata": {},
   "outputs": [],
   "source": [
    "file = client.files.create(\n",
    "            file=json_bytes,\n",
    "            purpose=\"assistants\",)\n",
    "\n",
    "file_id = file.id\n",
    "# print(file_id)"
   ]
  },
  {
   "cell_type": "markdown",
   "id": "b0a4c9ed-7b16-4178-914e-a4436b6d2971",
   "metadata": {},
   "source": [
    "### Attach File to Vector Store"
   ]
  },
  {
   "cell_type": "code",
   "execution_count": 18,
   "id": "15874314-ed04-4315-85cc-e9ce4eee9d73",
   "metadata": {},
   "outputs": [],
   "source": [
    "attach_status =client.vector_stores.files.create(\n",
    "    vector_store_id=vector_store_id,\n",
    "    file_id=file_id\n",
    "            )\n",
    "\n",
    "# print(attach_status.id)"
   ]
  },
  {
   "cell_type": "markdown",
   "id": "091a9cf3-a802-41a1-9707-e04ee1bdfd8f",
   "metadata": {},
   "source": [
    "### Query the Vector Store"
   ]
  },
  {
   "cell_type": "code",
   "execution_count": 19,
   "id": "cf3753c0-b763-403d-be6a-368d80f6714a",
   "metadata": {},
   "outputs": [],
   "source": [
    "query = \"jmu sport\""
   ]
  },
  {
   "cell_type": "code",
   "execution_count": 20,
   "id": "c757b4d8-d603-4b01-a610-978b9cfa5010",
   "metadata": {},
   "outputs": [
    {
     "name": "stdout",
     "output_type": "stream",
     "text": [
      "{\n",
      "        \"tweet\": {\n",
      "            \"text\": \"Sai shiye walt\\u01ddyiShim adamganabe nyiro kara\\n\\n\\u2390\n",
      " Relevant score: 0.5347618399387305\n",
      "\\n.\\n.\\n.\\n.\\n.\\njMu\\u062d\"\n",
      "        }\n",
      "    },\n",
      "    {\n",
      "        \"tweet\": {\n",
      "            \"text\": \"Ya K\\u01d\n",
      " Relevant score: 0.45519906961360856\n",
      "{\n",
      "        \"tweet\": {\n",
      "            \"text\": \"RT @LongwoodBase: Here\\u2019s our starting lineup against \n",
      " Relevant score: 0.44616348033953956\n",
      "\\u0628\\u0624\\u062f\\u0649\\u2390\\n\\u22b5A4TU\\u22b4\\nJMu\"\n",
      "        }\n",
      "    },\n",
      "    {\n",
      "        \"tweet\": {\n",
      "   \n",
      " Relevant score: 0.44232641115993143\n",
      "{\n",
      "        \"tweet\": {\n",
      "            \"text\": \"Sai shiye walt\\u01ddyi\\n\\n\\u2390\\u0628\\u0644\\u0624\\u0645\\u\n",
      " Relevant score: 0.4393625698813693\n"
     ]
    }
   ],
   "source": [
    "search_results = client.vector_stores.search(\n",
    "    vector_store_id=vector_store_id,\n",
    "    query=query\n",
    ")\n",
    "\n",
    "for result in search_results.data[:5]:\n",
    "    print(result.content[0].text[:100] + '\\n Relevant score: ' + str(result.score))"
   ]
  },
  {
   "cell_type": "markdown",
   "id": "77d89abc-a919-4563-9f06-8dfc9410a4ab",
   "metadata": {},
   "source": [
    "## OpenAI Response API"
   ]
  },
  {
   "cell_type": "markdown",
   "id": "6ee1ecaa-6836-41d5-847e-853b62bcdd0b",
   "metadata": {},
   "source": [
    "### Simple Response"
   ]
  },
  {
   "cell_type": "code",
   "execution_count": 21,
   "id": "7e96e622-9b8c-47d5-9a4a-3c3e6315b2b2",
   "metadata": {},
   "outputs": [],
   "source": [
    "simple_response = client.responses.create(\n",
    "  model=\"gpt-4o\",\n",
    "  input=[\n",
    "      {\n",
    "          \"role\": \"user\",\n",
    "          \"content\": query\n",
    "      }\n",
    "  ]\n",
    ")"
   ]
  },
  {
   "cell_type": "code",
   "execution_count": 22,
   "id": "c1c7e17d-a20d-40e2-b1bc-ee30f9199627",
   "metadata": {},
   "outputs": [
    {
     "data": {
      "text/markdown": [
       "James Madison University (JMU) offers a diverse and competitive athletics program. Known as the Dukes, JMU's sports teams participate in the Sun Belt Conference at the NCAA Division I level. Here's a brief overview of JMU sports:\n",
       "\n",
       "1. **Football**: JMU has a strong football program with a proud history of success, including a national championship in the Football Championship Subdivision (FCS).\n",
       "\n",
       "2. **Basketball**: Both men's and women's basketball teams are competitive and attract significant attention.\n",
       "\n",
       "3. **Baseball and Softball**: The Dukes' baseball and softball programs are known for their talent and skill, competing at high levels within the conference.\n",
       "\n",
       "4. **Soccer**: JMU offers both men's and women's soccer teams that compete strongly in the Sun Belt Conference.\n",
       "\n",
       "5. **Other Sports**: Additionally, JMU hosts teams in sports like field hockey, swimming and diving, track and field, lacrosse, and more.\n",
       "\n",
       "The university's facilities, such as Bridgeforth Stadium for football and the JMU Convocation Center for basketball, contribute to a vibrant sports atmosphere. JMU is also recognized for its passionate fan base, making game days a thrilling experience."
      ],
      "text/plain": [
       "<IPython.core.display.Markdown object>"
      ]
     },
     "metadata": {},
     "output_type": "display_data"
    }
   ],
   "source": [
    "display(Markdown(simple_response.output_text))"
   ]
  },
  {
   "cell_type": "markdown",
   "id": "7b468693-2250-4b09-994e-2eb52b1d5741",
   "metadata": {},
   "source": [
    "### File Search Response"
   ]
  },
  {
   "cell_type": "code",
   "execution_count": 23,
   "id": "b4061d68-56f6-4dfc-974c-b2446ad79ecf",
   "metadata": {},
   "outputs": [],
   "source": [
    "\n",
    "file_search_response = client.responses.create(\n",
    "    input= query,\n",
    "    model=\"gpt-4o\",\n",
    "    temperature = 0,\n",
    "    tools=[{\n",
    "        \"type\": \"file_search\",\n",
    "        \"vector_store_ids\": [vector_store_id],\n",
    "    }]\n",
    ")"
   ]
  },
  {
   "cell_type": "code",
   "execution_count": 24,
   "id": "5d448b96-b931-4af8-bd71-1f8facd44ffa",
   "metadata": {},
   "outputs": [
    {
     "data": {
      "text/markdown": [
       "The search results contain various tweets mentioning JMU, which likely refers to James Madison University. The tweets discuss topics such as JMU sports events, including football games and spring practices, as well as other activities related to the university."
      ],
      "text/plain": [
       "<IPython.core.display.Markdown object>"
      ]
     },
     "metadata": {},
     "output_type": "display_data"
    }
   ],
   "source": [
    "display(Markdown(file_search_response.output_text))\n"
   ]
  },
  {
   "cell_type": "markdown",
   "id": "7ddd7ddc-64d0-49dc-a0f7-c24a4a1b8c31",
   "metadata": {},
   "source": [
    "## Web Search API\n",
    "\n",
    "### Introduction to Web Search\n",
    "The OpenAI Web Search tool allows models to retrieve real-time information from the internet. \n",
    "This capability is particularly useful for obtaining up-to-date data, fact-checking, and expanding knowledge \n",
    "without relying solely on pre-trained information. \n",
    "\n",
    "By leveraging OpenAI's web search functionality, the Responses API can fetch external data \n",
    "and provide accurate, relevant results in real time (OpenAI, 2025). \n",
    "This feature enhances applications that require the latest insights, such as news aggregation, research, \n",
    "or dynamic content generation.\n",
    "\n",
    "For more details, visit the official OpenAI documentation: \n",
    "[Web Search in Responses API](https://platform.openai.com/docs/guides/tools-web-search)."
   ]
  },
  {
   "cell_type": "markdown",
   "id": "38f2bc7e-9a56-4695-8148-915d875ad716",
   "metadata": {},
   "source": [
    "### Perform Web Search"
   ]
  },
  {
   "cell_type": "code",
   "execution_count": 28,
   "id": "455aae40-d752-4e05-b8b6-da213e9b1f65",
   "metadata": {},
   "outputs": [],
   "source": [
    "web_search_response = client.responses.create(\n",
    "    model=\"gpt-4o\",  # or another supported model\n",
    "    input= 'the latest news on jmu football',\n",
    "    tools=[\n",
    "        {\n",
    "            \"type\": \"web_search\"\n",
    "        }\n",
    "    ]\n",
    ")"
   ]
  },
  {
   "cell_type": "code",
   "execution_count": 29,
   "id": "e1f5d2c4-f2fb-4261-bc7e-f5b5924f9959",
   "metadata": {},
   "outputs": [
    {
     "data": {
      "text/markdown": [
       "As of April 21, 2025, James Madison University's (JMU) football program has experienced several notable developments:\n",
       "\n",
       "**Coaching Changes:**\n",
       "- In December 2024, Bob Chesney was appointed as the new head coach of the Dukes. Chesney previously led Holy Cross to significant success, including multiple Patriot League titles. ([sports.yahoo.com](https://sports.yahoo.com/holy-cross-football-coach-bob-151736024.html?utm_source=openai))\n",
       "\n",
       "**2024 Season Highlights:**\n",
       "- Under Chesney's leadership, JMU concluded the 2024 season with a 9–4 record, including a 4–4 mark in Sun Belt Conference play. ([en.wikipedia.org](https://en.wikipedia.org/wiki/2024_James_Madison_Dukes_football_team?utm_source=openai))\n",
       "- The Dukes secured a victory in the Boca Raton Bowl, defeating Western Kentucky 27–17. ([en.wikipedia.org](https://en.wikipedia.org/wiki/2024_James_Madison_Dukes_football_team?utm_source=openai))\n",
       "\n",
       "**Notable Games:**\n",
       "- On November 16, 2024, JMU edged out Old Dominion with a 35-32 win. Quarterback Alonza Barnett III was instrumental, throwing a 68-yard touchdown pass and rushing for two additional touchdowns. ([wtop.com](https://wtop.com/ncaa-football/2024/11/alonza-barnett-iii-accounts-for-3-tds-james-madison-beats-old-dominion-35-32/?utm_source=openai))\n",
       "\n",
       "**Upcoming Games:**\n",
       "- Looking ahead, JMU has scheduled a game at Louisville on September 6, 2025. Additionally, their matchup at Virginia Tech has been rescheduled to September 26, 2026. ([jmusports.com](https://jmusports.com/news/2023/10/23/football-jmu-to-play-at-louisville-in-2025-virginia-tech-moved-to-2026.aspx?utm_source=openai))\n",
       "\n",
       "These developments reflect JMU's ongoing commitment to strengthening its football program and competing at a high level in collegiate football. "
      ],
      "text/plain": [
       "<IPython.core.display.Markdown object>"
      ]
     },
     "metadata": {},
     "output_type": "display_data"
    }
   ],
   "source": [
    "display(Markdown(web_search_response.output_text))"
   ]
  },
  {
   "cell_type": "markdown",
   "id": "a85df607-d638-4d58-99a8-99a6cfe2d7e8",
   "metadata": {},
   "source": [
    "### Stateful Response\n",
    "\n",
    "The OpenAI Responses API includes a stateful feature that enables continuity in interactions. \n",
    "By using the `response_id`, a conversation can persist across multiple queries, \n",
    "allowing users to refine or expand upon previous searches. This is particularly useful for iterative research, \n",
    "dynamic content generation, and applications that require follow-up queries based on prior responses."
   ]
  },
  {
   "cell_type": "code",
   "execution_count": 30,
   "id": "8b3e83a4-3437-4e9f-9732-748a35ccd43f",
   "metadata": {},
   "outputs": [
    {
     "data": {
      "text/markdown": [
       "As of April 21, 2025, James Madison University's (JMU) football program has experienced several nota"
      ],
      "text/plain": [
       "<IPython.core.display.Markdown object>"
      ]
     },
     "metadata": {},
     "output_type": "display_data"
    }
   ],
   "source": [
    "fetched_response = client.responses.retrieve(response_id=web_search_response.id)\n",
    "display(Markdown(fetched_response.output_text[:100]))"
   ]
  },
  {
   "cell_type": "markdown",
   "id": "bb2ca4d4-b2f7-4cd2-94b6-a0d2aec179cb",
   "metadata": {},
   "source": [
    "### Continue Query with Web Search"
   ]
  },
  {
   "cell_type": "code",
   "execution_count": 31,
   "id": "b348e31e-3aea-4656-b86e-b0f62ef9c697",
   "metadata": {},
   "outputs": [],
   "source": [
    "continue_query = 'find different news'\n",
    "\n",
    "continue_search_response = client.responses.create(\n",
    "    model=\"gpt-4o\",  # or another supported model\n",
    "    input= continue_query,\n",
    "    previous_response_id=web_search_response.id,\n",
    "    tools=[\n",
    "        {\n",
    "            \"type\": \"web_search\"\n",
    "        }\n",
    "    ]\n",
    ")"
   ]
  },
  {
   "cell_type": "code",
   "execution_count": 32,
   "id": "e3ecd050-c5e3-44ca-869b-657e90aca446",
   "metadata": {},
   "outputs": [
    {
     "data": {
      "text/markdown": [
       "Certainly, here are some additional updates on James Madison University's (JMU) football program:\n",
       "\n",
       "**Coaching Transition:**\n",
       "- On November 30, 2023, Head Coach Curt Cignetti resigned to accept a position at Indiana University. ([jmusports.com](https://jmusports.com/news/2023/11/30/curt-cignetti-resigns-as-head-coach-of-jmu-football?utm_source=openai))\n",
       "- Bob Chesney was appointed as the new head coach on December 7, 2023. Chesney previously led Holy Cross to five consecutive Patriot League Championships and brings a career record of 111-46 to JMU. ([jmu.edu](https://www.jmu.edu/news/2023/12/07-chesney-hired.shtml?utm_source=openai))\n",
       "\n",
       "**Player Transfers:**\n",
       "- Linebacker Jailin Walker entered the NCAA transfer portal after the 2023 season and transferred to Indiana University, where he became a starting linebacker for the Hoosiers in the 2024 season. ([en.wikipedia.org](https://en.wikipedia.org/wiki/Jailin_Walker?utm_source=openai))\n",
       "- Several high school recruits decommitted from JMU following Cignetti's departure, including four-star wide receiver Jah Jah Boyd, who later committed to Indiana. ([breezejmu.org](https://www.breezejmu.org/sports/the-breeze-tracks-the-ncaa-transfer-portal-s-impact-on-jmu-football/article_279c84bc-90bb-11ee-aaa1-cfada26dabd3.html?utm_source=openai))\n",
       "\n",
       "**Bowl Game Eligibility:**\n",
       "- In November 2023, discussions arose regarding JMU's eligibility for bowl games during their transition to the Football Bowl Subdivision (FBS). Despite a strong season, the NCAA's reclassification rules initially limited their bowl participation. ([washingtonpost.com](https://www.washingtonpost.com/sports/2023/11/08/jmu-bowl-game-ncaa/?utm_source=openai))\n",
       "\n",
       "**Stadium Attendance Records:**\n",
       "- Bridgeforth Stadium set a new attendance record on October 28, 2023, with 26,239 fans witnessing JMU's 30-27 victory over Old Dominion. ([en.wikipedia.org](https://en.wikipedia.org/wiki/Bridgeforth_Stadium?utm_source=openai))\n",
       "\n",
       "These developments highlight a period of significant change and growth for JMU football as they continue to establish themselves in the FBS landscape. "
      ],
      "text/plain": [
       "<IPython.core.display.Markdown object>"
      ]
     },
     "metadata": {},
     "output_type": "display_data"
    }
   ],
   "source": [
    "display(Markdown(continue_search_response.output_text))"
   ]
  },
  {
   "cell_type": "markdown",
   "id": "132125be-48d9-4596-9dc5-bc12dca5fdbf",
   "metadata": {},
   "source": [
    "### Combining File Search and Web Search\n",
    "\n",
    "This is an example of using file search to analyze private data and web search to retrieve public or the latest data. \n",
    "The Responses API allows developers to integrate these tools to enhance retrieval-augmented generation (RAG) applications. \n",
    "By combining file search with web search, users can leverage structured internal knowledge while also retrieving real-time \n",
    "information from external sources, ensuring comprehensive and up-to-date responses. "
   ]
  },
  {
   "cell_type": "code",
   "execution_count": 33,
   "id": "6344e43c-8aa4-4693-aaf6-20f09f416364",
   "metadata": {},
   "outputs": [],
   "source": [
    "combined_search_response = client.responses.create(\n",
    "    model=\"gpt-4o\",  # or another supported model\n",
    "    input= query,\n",
    "    temperature = 0,\n",
    "    instructions=\"Retrieve the results from the file search first, and use the web search tool to expand the results with news resources\",\n",
    "    tools=[{\n",
    "        \"type\": \"file_search\",\n",
    "        \"vector_store_ids\": [vector_store_id],\n",
    "    },\n",
    "        {\n",
    "            \"type\": \"web_search\"\n",
    "        }\n",
    "    ]\n",
    ")"
   ]
  },
  {
   "cell_type": "code",
   "execution_count": 34,
   "id": "a09ee0a6-3b50-43a3-a63b-3c765da85561",
   "metadata": {},
   "outputs": [
    {
     "data": {
      "text/markdown": [
       "James Madison University's (JMU) athletic programs have recently achieved significant milestones across multiple sports:\n",
       "\n",
       "**Football:**\n",
       "- The Dukes have announced their 2025 football schedule, featuring 12 games evenly split between home and away matchups. ([bleacherreport.com](https://bleacherreport.com/james-madison-football?utm_source=openai))\n",
       "- In a notable game, JMU defeated the University of North Carolina with a commanding score of 70-20. ([bleacherreport.com](https://bleacherreport.com/james-madison-football/?utm_source=openai))\n",
       "\n",
       "**Men's Basketball:**\n",
       "- The team secured the Sun Belt Conference title and earned a spot in the NCAA tournament by defeating their opponent 91-71 in the championship game. ([richmond.com](https://richmond.com/sports/college/schools/james-madison/?utm_source=openai))\n",
       "\n",
       "**Athletic Department Updates:**\n",
       "- JMU is preparing for potential changes in scholarship allocations and roster sizes across various sports, including football and basketball, in response to proposed NCAA settlements. ([dnronline.com](https://www.dnronline.com/sports/dukes-preparing-for-potential-scholarship-roster-changes/article_e35ad5be-1930-5b3e-b203-0db9a70bca18.html?utm_source=openai))\n",
       "\n",
       "These developments highlight JMU's ongoing commitment to excellence in collegiate athletics. "
      ],
      "text/plain": [
       "<IPython.core.display.Markdown object>"
      ]
     },
     "metadata": {},
     "output_type": "display_data"
    }
   ],
   "source": [
    "display(Markdown(combined_search_response.output_text))"
   ]
  },
  {
   "cell_type": "code",
   "execution_count": null,
   "id": "2c7e552a-315a-44e2-bdcb-945a9d2a108e",
   "metadata": {},
   "outputs": [],
   "source": []
  }
 ],
 "metadata": {
  "kernelspec": {
   "display_name": "conda_python3",
   "language": "python",
   "name": "conda_python3"
  },
  "language_info": {
   "codemirror_mode": {
    "name": "ipython",
    "version": 3
   },
   "file_extension": ".py",
   "mimetype": "text/x-python",
   "name": "python",
   "nbconvert_exporter": "python",
   "pygments_lexer": "ipython3",
   "version": "3.10.16"
  }
 },
 "nbformat": 4,
 "nbformat_minor": 5
}
